{
  "nbformat": 4,
  "nbformat_minor": 0,
  "metadata": {
    "colab": {
      "name": "clothes desafio",
      "provenance": []
    },
    "kernelspec": {
      "name": "python3",
      "display_name": "Python 3"
    },
    "language_info": {
      "name": "python"
    }
  },
  "cells": [
    {
      "cell_type": "code",
      "metadata": {
        "colab": {
          "base_uri": "https://localhost:8080/"
        },
        "id": "dc-8a5TzCoTJ",
        "outputId": "338b9099-8248-45cc-a34c-cc86fabfe551"
      },
      "source": [
        "\n",
        "import math\n",
        "import pandas as pd\n",
        "import numpy as np\n",
        "import matplotlib.pyplot as plt\n",
        "from google.colab import drive\n",
        "drive.mount('/content/drive')\n",
        "import seaborn as sns"
      ],
      "execution_count": 1,
      "outputs": [
        {
          "output_type": "stream",
          "text": [
            "Mounted at /content/drive\n"
          ],
          "name": "stdout"
        }
      ]
    },
    {
      "cell_type": "code",
      "metadata": {
        "id": "QSj5WcjSDF3m"
      },
      "source": [
        "df = pd.read_csv('/content/drive/My Drive/kaggle desafios/clothes/final_test.csv')"
      ],
      "execution_count": 67,
      "outputs": []
    },
    {
      "cell_type": "code",
      "metadata": {
        "id": "mEfV9CCYDZKm"
      },
      "source": [
        "df.head(10)"
      ],
      "execution_count": null,
      "outputs": []
    },
    {
      "cell_type": "code",
      "metadata": {
        "id": "7OwLwP0lDnY-"
      },
      "source": [
        "df.isna().sum()"
      ],
      "execution_count": null,
      "outputs": []
    },
    {
      "cell_type": "code",
      "metadata": {
        "id": "Gr0WJrC6EI4V"
      },
      "source": [
        "df.shape"
      ],
      "execution_count": null,
      "outputs": []
    },
    {
      "cell_type": "code",
      "metadata": {
        "id": "n6stUI65ucG9"
      },
      "source": [
        "sns.pairplot(data=df, hue='size', height=7)\n",
        "plt.show()"
      ],
      "execution_count": null,
      "outputs": []
    },
    {
      "cell_type": "markdown",
      "metadata": {
        "id": "9m8w3aibOmyF"
      },
      "source": [
        "## Removendo outliers usando zscore, de acordo com https://towardsdatascience.com/ways-to-detect-and-remove-the-outliers-404d16608dba"
      ]
    },
    {
      "cell_type": "code",
      "metadata": {
        "id": "_-VZTNTRF8Aq"
      },
      "source": [
        "dfs = []\n",
        "sizes = []\n",
        "for size_type in df['size'].unique():\n",
        "    print('size type:',size_type)\n",
        "    sizes.append(size_type)\n",
        "    ndf = df[['age','height','weight']][df['size'] == size_type]\n",
        "    zscore = ((ndf - ndf.mean())/ndf.std())\n",
        "    #print(zscore)\n",
        "    dfs.append(zscore)"
      ],
      "execution_count": null,
      "outputs": []
    },
    {
      "cell_type": "code",
      "metadata": {
        "id": "7a7MuMlMF9_m"
      },
      "source": [
        "for i in range(len(dfs)):\n",
        "    print(sizes[i])\n",
        "    dfs[i]['age'] = dfs[i]['age'][(dfs[i]['age']>-3) & (dfs[i]['age']<3)]\n",
        "    dfs[i]['height'] = dfs[i]['height'][(dfs[i]['height']>-3) & (dfs[i]['height']<3)]\n",
        "    dfs[i]['weight'] = dfs[i]['weight'][(dfs[i]['weight']>-3) & (dfs[i]['weight']<3)]\n",
        "    dfs[i]['size'] = sizes[i]"
      ],
      "execution_count": null,
      "outputs": []
    },
    {
      "cell_type": "markdown",
      "metadata": {
        "id": "SrMbLsNbEaT1"
      },
      "source": [
        "Eu decidi deletar valores NaN porque a quantidade não é muito grande em relação ao total dos dados, mas uma opção seria preencher com a media com base no \"size\" que esta classificado o valor faltante"
      ]
    },
    {
      "cell_type": "code",
      "metadata": {
        "id": "QnCshEttHK5b"
      },
      "source": [
        "df = pd.concat(dfs)"
      ],
      "execution_count": 109,
      "outputs": []
    },
    {
      "cell_type": "code",
      "metadata": {
        "id": "CAlUF2HXM4XD"
      },
      "source": [
        "df.dropna(inplace = True)"
      ],
      "execution_count": 110,
      "outputs": []
    },
    {
      "cell_type": "code",
      "metadata": {
        "id": "wh40Vs5rEeR0"
      },
      "source": [
        "from sklearn.preprocessing import LabelEncoder\n",
        "from sklearn.neural_network import MLPClassifier"
      ],
      "execution_count": 75,
      "outputs": []
    },
    {
      "cell_type": "code",
      "metadata": {
        "id": "zpPejga_m4SG"
      },
      "source": [
        "from sklearn.tree import DecisionTreeClassifier"
      ],
      "execution_count": 76,
      "outputs": []
    },
    {
      "cell_type": "code",
      "metadata": {
        "id": "wcpbz3CcHVuF"
      },
      "source": [
        "from sklearn.model_selection import train_test_split"
      ],
      "execution_count": 77,
      "outputs": []
    },
    {
      "cell_type": "markdown",
      "metadata": {
        "id": "JCwg1g4RE940"
      },
      "source": [
        "transformando os tamanhos em dados numericos e criando novas features"
      ]
    },
    {
      "cell_type": "code",
      "metadata": {
        "id": "PT9wCZtkFLkV"
      },
      "source": [
        "labelEncoder = LabelEncoder()"
      ],
      "execution_count": 111,
      "outputs": []
    },
    {
      "cell_type": "code",
      "metadata": {
        "id": "cF_SDQ7LE_7M"
      },
      "source": [
        "size_enconder = labelEncoder.fit_transform(df['size'])"
      ],
      "execution_count": 112,
      "outputs": []
    },
    {
      "cell_type": "code",
      "metadata": {
        "id": "QnCx7bi0Fa4c"
      },
      "source": [
        "df['size_enc'] = size_enconder"
      ],
      "execution_count": 113,
      "outputs": []
    },
    {
      "cell_type": "code",
      "metadata": {
        "id": "bZsnQUVRVmxU"
      },
      "source": [
        "df['imc'] = df['weight'] / (df['height']/100 * df['height']/100)"
      ],
      "execution_count": 114,
      "outputs": []
    },
    {
      "cell_type": "code",
      "metadata": {
        "id": "Mhe8yENOYl_s"
      },
      "source": [
        "df['weight2'] = df['weight'] * df['weight']"
      ],
      "execution_count": 115,
      "outputs": []
    },
    {
      "cell_type": "markdown",
      "metadata": {
        "id": "sdNelystF8WY"
      },
      "source": [
        "separando o df de treino"
      ]
    },
    {
      "cell_type": "code",
      "metadata": {
        "id": "fpbweX7xFesb"
      },
      "source": [
        "df_train = df.copy()"
      ],
      "execution_count": 116,
      "outputs": []
    },
    {
      "cell_type": "code",
      "metadata": {
        "id": "gLFhT6-5NhML"
      },
      "source": [
        "df_train.isna().sum()"
      ],
      "execution_count": null,
      "outputs": []
    },
    {
      "cell_type": "code",
      "metadata": {
        "id": "UVV0G7CfF1Ct"
      },
      "source": [
        "df_train.drop(columns= ['size'], inplace = True, axis = 1) "
      ],
      "execution_count": 118,
      "outputs": []
    },
    {
      "cell_type": "code",
      "metadata": {
        "id": "c6N23wQ_F6T-"
      },
      "source": [
        "df_labels = df_train['size_enc']\n",
        "df_train.drop(columns = ['size_enc'], inplace = True, axis = 1)"
      ],
      "execution_count": 119,
      "outputs": []
    },
    {
      "cell_type": "code",
      "metadata": {
        "id": "4u9C3eVvHYeU"
      },
      "source": [
        "x_train, x_test, y_train, y_test = train_test_split(df_train, df_labels, test_size=0.2, random_state=0)"
      ],
      "execution_count": 120,
      "outputs": []
    },
    {
      "cell_type": "code",
      "metadata": {
        "id": "LN9D5zYlIPit"
      },
      "source": [
        "rede_neural = MLPClassifier(max_iter = 1000, \n",
        "                            verbose = True,\n",
        "                            tol = 0.00001,\n",
        "                            solver = 'adam',\n",
        "                            activation = 'relu',\n",
        "                            hidden_layer_sizes = (6,6))"
      ],
      "execution_count": null,
      "outputs": []
    },
    {
      "cell_type": "code",
      "metadata": {
        "id": "z7-cQRrIOG4T"
      },
      "source": [
        "from sklearn.metrics import accuracy_score, classification_report"
      ],
      "execution_count": 122,
      "outputs": []
    },
    {
      "cell_type": "code",
      "metadata": {
        "id": "uJL59_EYSH8V"
      },
      "source": [
        "rede_neural = MLPClassifier(max_iter = 1000, \n",
        "                        tol = 0.00001,\n",
        "                        solver = 'adam',\n",
        "                        activation = 'tanh',\n",
        "                        hidden_layer_sizes = (20,20))"
      ],
      "execution_count": 131,
      "outputs": []
    },
    {
      "cell_type": "code",
      "metadata": {
        "colab": {
          "base_uri": "https://localhost:8080/"
        },
        "id": "BTgXp4SFSJKr",
        "outputId": "f7532894-6bb6-4b74-818f-2a1d32f40623"
      },
      "source": [
        "rede_neural.fit(x_train, y_train)\n",
        "prev = rede_neural.predict(x_test)\n",
        "print(accuracy_score(y_test, prev))"
      ],
      "execution_count": 132,
      "outputs": [
        {
          "output_type": "stream",
          "text": [
            "0.2649976381672178\n"
          ],
          "name": "stdout"
        }
      ]
    },
    {
      "cell_type": "code",
      "metadata": {
        "id": "MTPgkXYjMml2"
      },
      "source": [
        "for s in ['adam', 'sgd']:\n",
        "  for act in ['identity', 'logistic', 'tanh', 'relu']:\n",
        "    \n",
        "    print('\\n ----------------\\n ',s)\n",
        "    print(act)\n",
        "    rede_neural = MLPClassifier(max_iter = 1000, \n",
        "                            tol = 0.00001,\n",
        "                            solver = s,\n",
        "                            activation = act,\n",
        "                            hidden_layer_sizes = (5,5))\n",
        "    rede_neural.fit(x_train, y_train)\n",
        "    prev = rede_neural.predict(x_test)\n",
        "    print(accuracy_score(y_test, prev))\n",
        "    #print(classification_report(y_test, prev))"
      ],
      "execution_count": null,
      "outputs": []
    },
    {
      "cell_type": "markdown",
      "metadata": {
        "id": "zTpJsiyMTJWN"
      },
      "source": [
        "#Random Forest"
      ]
    },
    {
      "cell_type": "code",
      "metadata": {
        "id": "-4ZG0phXTLy7"
      },
      "source": [
        "from sklearn.ensemble import RandomForestClassifier"
      ],
      "execution_count": 125,
      "outputs": []
    },
    {
      "cell_type": "code",
      "metadata": {
        "id": "51n5JzbUUC4d",
        "colab": {
          "base_uri": "https://localhost:8080/"
        },
        "outputId": "3aec294c-ca86-4829-983a-d6dc0e8dafa5"
      },
      "source": [
        "for n in range(20, 300, 20):\n",
        "  RFC = RandomForestClassifier(n_estimators= n, criterion = 'entropy')\n",
        "  RFC.fit(x_train, y_train)\n",
        "  prev = RFC.predict(x_test)\n",
        "  ac = accuracy_score(y_test, prev)\n",
        "  print(n, ac)"
      ],
      "execution_count": 126,
      "outputs": [
        {
          "output_type": "stream",
          "text": [
            "20 0.999269978958217\n",
            "40 0.9993129213724395\n",
            "60 0.9992270365439945\n",
            "80 0.9993129213724395\n",
            "100 0.999269978958217\n",
            "120 0.999269978958217\n",
            "140 0.9991840941297719\n",
            "160 0.999269978958217\n",
            "180 0.9991840941297719\n",
            "200 0.9991840941297719\n",
            "220 0.9993129213724395\n",
            "240 0.9992270365439945\n",
            "260 0.9992270365439945\n",
            "280 0.9991840941297719\n"
          ],
          "name": "stdout"
        }
      ]
    }
  ]
}